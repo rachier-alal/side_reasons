{
 "cells": [
  {
   "cell_type": "code",
   "execution_count": 6,
   "id": "f53feca2",
   "metadata": {},
   "outputs": [],
   "source": [
    "from google.oauth2.credentials import Credentials\n",
    "from googleapiclient.discovery import build\n",
    "import time"
   ]
  },
  {
   "cell_type": "code",
   "execution_count": 17,
   "id": "722b3ad7",
   "metadata": {},
   "outputs": [],
   "source": [
    "# Set the authorized user information\n",
    "authorized_user_info = {\n",
    "    \"client_id\":\"877684305447-gj0mu5qr11h1r6kkv6hoqu82jdjaqluf.apps.googleusercontent.com\",\n",
    "    \"project_id\":\"numbers-372819\",\"auth_uri\":\"https://accounts.google.com/o/oauth2/auth\",\n",
    "    \"token_uri\":\"https://oauth2.googleapis.com/token\",\n",
    "    \"auth_provider_x509_cert_url\":\"https://www.googleapis.com/oauth2/v1/certs\",\n",
    "    \"client_secret\":\"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\",\n",
    "    \"redirect_uris\":[\"http://localhost\"],\n",
    "    \"refresh_token\":\"my_refresh_token\"\n",
    "}"
   ]
  },
  {
   "cell_type": "code",
   "execution_count": 21,
   "id": "107b03ea",
   "metadata": {},
   "outputs": [
    {
     "ename": "AttributeError",
     "evalue": "'Credentials' object has no attribute 'info'",
     "output_type": "error",
     "traceback": [
      "\u001b[1;31m---------------------------------------------------------------------------\u001b[0m",
      "\u001b[1;31mAttributeError\u001b[0m                            Traceback (most recent call last)",
      "Input \u001b[1;32mIn [21]\u001b[0m, in \u001b[0;36m<cell line: 8>\u001b[1;34m()\u001b[0m\n\u001b[0;32m      5\u001b[0m \u001b[38;5;66;03m# Authenticate with the Google Sheets API\u001b[39;00m\n\u001b[0;32m      6\u001b[0m \u001b[38;5;66;03m# creds = mock.Mock(spec=credentials.Credentials)\u001b[39;00m\n\u001b[0;32m      7\u001b[0m creds \u001b[38;5;241m=\u001b[39m Credentials\u001b[38;5;241m.\u001b[39mfrom_authorized_user_info(info\u001b[38;5;241m=\u001b[39mauthorized_user_info)\n\u001b[1;32m----> 8\u001b[0m \u001b[38;5;28mprint\u001b[39m(\u001b[43mcreds\u001b[49m\u001b[38;5;241;43m.\u001b[39;49m\u001b[43minfo\u001b[49m)\n\u001b[0;32m      9\u001b[0m service \u001b[38;5;241m=\u001b[39m build(\u001b[38;5;124m'\u001b[39m\u001b[38;5;124msheets\u001b[39m\u001b[38;5;124m'\u001b[39m, \u001b[38;5;124m'\u001b[39m\u001b[38;5;124mv4\u001b[39m\u001b[38;5;124m'\u001b[39m, credentials\u001b[38;5;241m=\u001b[39mcreds)\n\u001b[0;32m     11\u001b[0m \u001b[38;5;66;03m# Set up a loop to fetch the data at intervals\u001b[39;00m\n",
      "\u001b[1;31mAttributeError\u001b[0m: 'Credentials' object has no attribute 'info'"
     ]
    }
   ],
   "source": [
    "# Set the sheet ID and range for the data you want to fetch\n",
    "SHEET_ID = '13ufTqDDPhACkQruhbHwnCsueHxEIedOHufmhaXZs2eU'\n",
    "RANGE_NAME = 'Acquisitions!A1:Z'\n",
    "\n",
    "# Authenticate with the Google Sheets API\n",
    "# creds = mock.Mock(spec=credentials.Credentials)\n",
    "creds = Credentials.from_authorized_user_info(info=authorized_user_info)\n",
    "print(creds.dir())\n",
    "service = build('sheets', 'v4', credentials=creds)\n",
    "\n",
    "# Set up a loop to fetch the data at intervals\n",
    "while True:\n",
    "    # Call the Sheets API to fetch the data\n",
    "    result = service.spreadsheets().values().get(\n",
    "        spreadsheetId=SHEET_ID, range=RANGE_NAME).execute()\n",
    "    values = result.get('values', [])\n",
    "\n",
    "    # Print the fetched data\n",
    "    print(values)\n",
    "\n",
    "    # Wait for 10 seconds before fetching the data again\n",
    "    time.sleep(10000)"
   ]
  },
  {
   "cell_type": "code",
   "execution_count": null,
   "id": "eafccbe2",
   "metadata": {},
   "outputs": [],
   "source": []
  }
 ],
 "metadata": {
  "kernelspec": {
   "display_name": "Python 3 (ipykernel)",
   "language": "python",
   "name": "python3"
  },
  "language_info": {
   "codemirror_mode": {
    "name": "ipython",
    "version": 3
   },
   "file_extension": ".py",
   "mimetype": "text/x-python",
   "name": "python",
   "nbconvert_exporter": "python",
   "pygments_lexer": "ipython3",
   "version": "3.10.5"
  }
 },
 "nbformat": 4,
 "nbformat_minor": 5
}
